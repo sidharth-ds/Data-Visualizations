{
 "cells": [
  {
   "cell_type": "markdown",
   "id": "0364b902",
   "metadata": {},
   "source": [
    "# Line plot:"
   ]
  },
  {
   "cell_type": "code",
   "execution_count": 1,
   "id": "f322e79c",
   "metadata": {},
   "outputs": [],
   "source": [
    "from bokeh.plotting import figure,output_file,show"
   ]
  },
  {
   "cell_type": "code",
   "execution_count": 2,
   "id": "898f24d3",
   "metadata": {},
   "outputs": [],
   "source": [
    "x=[1,2,3,4,5]\n",
    "y=[2,4,6,8,10]\n",
    "\n",
    "output_file('line.html')\n",
    "\n",
    "fig = figure(title='line plot',x_axis_label = 'x',y_axis_label='y')\n",
    "\n",
    "fig.line(x,y)\n",
    "\n",
    "show(fig)"
   ]
  },
  {
   "cell_type": "markdown",
   "id": "f980e14e",
   "metadata": {},
   "source": [
    "# horizontal Bar plot:"
   ]
  },
  {
   "cell_type": "code",
   "execution_count": 3,
   "id": "1e5bc71d",
   "metadata": {},
   "outputs": [],
   "source": [
    "fig = figure(plot_width=400, plot_height=400)\n",
    "\n",
    "fig.hbar(y=[2,4,6], height=1, left=0, right=[1,2,3], color='cyan' )\n",
    "\n",
    "output_file('bar.html')\n",
    "\n",
    "show(fig)\n",
    "\n",
    "# height : thickness\n",
    "# left: x-coordinates of left edges\n",
    "# right: x-coordinates of right edges"
   ]
  },
  {
   "cell_type": "markdown",
   "id": "3396c8f8",
   "metadata": {},
   "source": [
    "# vertical Bar plot:"
   ]
  },
  {
   "cell_type": "code",
   "execution_count": 4,
   "id": "3dfa3001",
   "metadata": {},
   "outputs": [],
   "source": [
    "fig = figure(plot_width=400, plot_height=400)\n",
    "\n",
    "fig.vbar(x=[3,4,5], width=0.5, bottom =0, top = [2,4,6], color='cyan' )\n",
    "\n",
    "output_file('vbar.html')\n",
    "\n",
    "show(fig)\n",
    "\n",
    "# width : thickness\n",
    "# bottom,top : y-axis"
   ]
  },
  {
   "cell_type": "markdown",
   "id": "169c1904",
   "metadata": {},
   "source": [
    "# Patch plot:\n",
    "\n",
    "to show the region having similar properties"
   ]
  },
  {
   "cell_type": "code",
   "execution_count": 5,
   "id": "9c835324",
   "metadata": {},
   "outputs": [],
   "source": [
    "fig = figure(plot_width=400, plot_height=400)\n",
    "\n",
    "fig.patch (x=[3,4,5,7], y = [2,4,6,3], color='green' )\n",
    "\n",
    "output_file('patch.html')\n",
    "\n",
    "show(fig)"
   ]
  },
  {
   "cell_type": "markdown",
   "id": "1167b2b0",
   "metadata": {},
   "source": [
    "### multiple patches:"
   ]
  },
  {
   "cell_type": "code",
   "execution_count": 16,
   "id": "38dc99a5",
   "metadata": {},
   "outputs": [],
   "source": [
    "x = [[1,4,2],[8,6,5],[9,2,5]]\n",
    "y = [[7,9,2],[3,5,6],[1,7,9]]\n",
    "\n",
    "fig = figure()\n",
    "\n",
    "fig.patches (x,y, fill_color = ['blue','red','black'], line_color='white' )\n",
    "\n",
    "output_file('patches.html')\n",
    "\n",
    "show(fig)"
   ]
  },
  {
   "cell_type": "markdown",
   "id": "eacc69d3",
   "metadata": {},
   "source": [
    "# Scatter marker:"
   ]
  },
  {
   "cell_type": "code",
   "execution_count": 18,
   "id": "92097451",
   "metadata": {},
   "outputs": [],
   "source": [
    "fig = figure()\n",
    "\n",
    "fig.scatter ([1,2,3,4],[9,8,7,6], marker='circle',size=20 )\n",
    "\n",
    "output_file('scatter.html')\n",
    "\n",
    "show(fig)"
   ]
  },
  {
   "cell_type": "markdown",
   "id": "c6ee0c2c",
   "metadata": {},
   "source": [
    "# Area plot:"
   ]
  },
  {
   "cell_type": "code",
   "execution_count": 23,
   "id": "77d1a0e6",
   "metadata": {},
   "outputs": [],
   "source": [
    "fig = figure()\n",
    "\n",
    "a = [1,2,3,4,5]\n",
    "b = [2,6,4,3,5]\n",
    "c = [1,4,2,2,3]\n",
    "\n",
    "fig.varea(x=a,y1=b,y2=c)\n",
    "\n",
    "output_file('area.html')\n",
    "show(fig)"
   ]
  },
  {
   "cell_type": "markdown",
   "id": "fc6e72cd",
   "metadata": {},
   "source": [
    "### harea():"
   ]
  },
  {
   "cell_type": "code",
   "execution_count": 22,
   "id": "8de63a05",
   "metadata": {},
   "outputs": [],
   "source": [
    "fig = figure()\n",
    "\n",
    "a = [2,6,4,3,5]\n",
    "b = [1,4,2,2,3]\n",
    "c = [1,2,3,4,5]\n",
    "\n",
    "fig.harea(x1=a,x2=b,y=c)\n",
    "\n",
    "output_file('harea.html')\n",
    "show(fig)"
   ]
  },
  {
   "cell_type": "markdown",
   "id": "f5eb7808",
   "metadata": {},
   "source": [
    "# circle glyph():"
   ]
  },
  {
   "cell_type": "code",
   "execution_count": 24,
   "id": "eccd4139",
   "metadata": {},
   "outputs": [],
   "source": [
    "fig = figure()\n",
    "\n",
    "fig.circle(x=[1,2,3],y=[3,7,5],size=20,fill_color='red')\n",
    "\n",
    "fig.circle_cross(x=[2,4,6],y=[5,8,9],size=20,fill_color='blue',fill_alpha=0.2,line_width=2)\n",
    "\n",
    "fig.circle_x(x=[3,9,8],y=[4,6,2],size=20,fill_color='green',fill_alpha=0.6,line_width=2)\n",
    "\n",
    "show(fig)"
   ]
  },
  {
   "cell_type": "markdown",
   "id": "7b8acaf2",
   "metadata": {},
   "source": [
    "# Rectangle:"
   ]
  },
  {
   "cell_type": "markdown",
   "id": "faafd621",
   "metadata": {},
   "source": [
    "#### axis alligned rectangle:"
   ]
  },
  {
   "cell_type": "code",
   "execution_count": 26,
   "id": "980bad82",
   "metadata": {},
   "outputs": [],
   "source": [
    "fig = figure()\n",
    "\n",
    "fig.quad( bottom = [1,2,3], top = [2,4,6],left=[1,2,3],right=[1.3,2.5,3.4], color='red' )\n",
    "\n",
    "output_file('rectangles.html')\n",
    "show(fig)"
   ]
  },
  {
   "cell_type": "markdown",
   "id": "7ecc5566",
   "metadata": {},
   "source": [
    "#### arbitrary rectangle:"
   ]
  },
  {
   "cell_type": "code",
   "execution_count": 27,
   "id": "59c68170",
   "metadata": {},
   "outputs": [],
   "source": [
    "from math import pi"
   ]
  },
  {
   "cell_type": "code",
   "execution_count": 28,
   "id": "a7289675",
   "metadata": {},
   "outputs": [],
   "source": [
    "fig = figure()\n",
    "\n",
    "fig.rect(x=[1,2,3], y=[2,4,6],width=0.5,height=40,angle=pi/3 )\n",
    "\n",
    "output_file('rectangles_rotated.html')\n",
    "show(fig)"
   ]
  },
  {
   "cell_type": "markdown",
   "id": "1db22c2b",
   "metadata": {},
   "source": [
    "# oval:"
   ]
  },
  {
   "cell_type": "code",
   "execution_count": 30,
   "id": "b4d4b152",
   "metadata": {},
   "outputs": [
    {
     "name": "stderr",
     "output_type": "stream",
     "text": [
      "BokehDeprecationWarning: 'Oval' is deprecated and will be removed in Bokeh 3.0, use the Ellipse glyph instead\n",
      "BokehDeprecationWarning: 'Oval' is deprecated and will be removed in Bokeh 3.0, use the Ellipse glyph instead\n",
      "BokehDeprecationWarning: 'Oval' is deprecated and will be removed in Bokeh 3.0, use the Ellipse glyph instead\n"
     ]
    }
   ],
   "source": [
    "fig = figure()\n",
    "\n",
    "fig.oval(x=[1,2,3], y=[2,4,6],width=0.5,height=40,angle=pi/3 )\n",
    "\n",
    "output_file('oval.html')\n",
    "show(fig)"
   ]
  },
  {
   "cell_type": "markdown",
   "id": "91069cb3",
   "metadata": {},
   "source": [
    "# ellipse:"
   ]
  },
  {
   "cell_type": "code",
   "execution_count": 32,
   "id": "6bb70633",
   "metadata": {},
   "outputs": [],
   "source": [
    "fig = figure()\n",
    "\n",
    "fig.ellipse(x=[1,2,3], y=[2,4,6],width=[0.5,0.2,0.4],height=20,angle=pi/3 )\n",
    "\n",
    "output_file('ellipse.html')\n",
    "show(fig)"
   ]
  },
  {
   "cell_type": "markdown",
   "id": "ecb27cd9",
   "metadata": {},
   "source": [
    "# multiple shapes:"
   ]
  },
  {
   "cell_type": "code",
   "execution_count": 42,
   "id": "549eeca3",
   "metadata": {},
   "outputs": [],
   "source": [
    "fig = figure()\n",
    "\n",
    "fig.rect(x=10,y=10,width=300,height=50,width_units='screen',height_units='screen')\n",
    "\n",
    "fig.square(x=2,y=3,size=200,color='red')\n",
    "\n",
    "fig.ellipse(x=7,y=6,width=7,height=4,line_width=0.4)\n",
    "\n",
    "show(fig)"
   ]
  },
  {
   "cell_type": "markdown",
   "id": "ec1b1c81",
   "metadata": {},
   "source": [
    "# Arc:"
   ]
  },
  {
   "cell_type": "code",
   "execution_count": 43,
   "id": "e6a786dc",
   "metadata": {},
   "outputs": [],
   "source": [
    "fig = figure()\n",
    "\n",
    "fig.arc(x=[1,2,3],y=[1,2,3],radius=0.1,start_angle=0.4,end_angle=4.8)\n",
    "\n",
    "show(fig)"
   ]
  },
  {
   "cell_type": "markdown",
   "id": "9b929ead",
   "metadata": {},
   "source": [
    "# Wedge:"
   ]
  },
  {
   "cell_type": "code",
   "execution_count": 45,
   "id": "9cbc6250",
   "metadata": {},
   "outputs": [],
   "source": [
    "fig = figure()\n",
    "\n",
    "fig.wedge(x=[1,2,3],y=[1,2,3],radius=0.1,start_angle=0.4,end_angle=4.8,direction='anticlock')\n",
    "\n",
    "show(fig)"
   ]
  },
  {
   "cell_type": "markdown",
   "id": "585d78fd",
   "metadata": {},
   "source": [
    "#### annular wedge:"
   ]
  },
  {
   "cell_type": "code",
   "execution_count": 46,
   "id": "81daa345",
   "metadata": {},
   "outputs": [],
   "source": [
    "fig = figure()\n",
    "\n",
    "fig.annular_wedge(x=[1,2,3],y=[1,2,3],inner_radius=0.1,outer_radius=0.4,start_angle=0.4,end_angle=4.8,direction='anticlock')\n",
    "\n",
    "show(fig)"
   ]
  },
  {
   "cell_type": "markdown",
   "id": "69f291bf",
   "metadata": {},
   "source": [
    "#### annulus:"
   ]
  },
  {
   "cell_type": "code",
   "execution_count": 50,
   "id": "8df16bb1",
   "metadata": {},
   "outputs": [],
   "source": [
    "fig = figure()\n",
    "\n",
    "fig.annulus(x=[1,2,3],y=[1,2,3],inner_radius=0.1,outer_radius=0.4,color='firebrick')\n",
    "\n",
    "show(fig)"
   ]
  },
  {
   "cell_type": "markdown",
   "id": "7c85f763",
   "metadata": {},
   "source": [
    "# bezier curves:"
   ]
  },
  {
   "cell_type": "code",
   "execution_count": 53,
   "id": "c136af28",
   "metadata": {},
   "outputs": [],
   "source": [
    "x = 2\n",
    "y = 4\n",
    "\n",
    "a=x+0.4\n",
    "b=x+0.1\n",
    "c=x-0.1\n",
    "d=y+0.2\n",
    "e=y-0.2\n",
    "\n",
    "fig = figure()\n",
    "\n",
    "fig.bezier(x0 = x , y0 = y , x1 = a , y1 = y , cx0 = b , cy0 = d , cx1 = c , cy1 = e)\n",
    "\n",
    "show(fig)\n",
    "\n",
    "# x0 =  the x-coordinates of starting point\n",
    "# y0 =  the y-coordinates of starting point\n",
    "# x1 =  the x-coordinates of ending point\n",
    "# y1 =  the y-coordinates of ending point\n",
    "# cx0 = the x-coordinates of first control point\n",
    "# cy0 = the y-coordinates of first control point\n",
    "# cx1 = the x-coordinates of second control point\n",
    "# cy1 = the y-coordinates of second control point"
   ]
  },
  {
   "cell_type": "code",
   "execution_count": 55,
   "id": "754b0251",
   "metadata": {},
   "outputs": [],
   "source": [
    "x = 2\n",
    "y = 4\n",
    "\n",
    "a=x+0.4\n",
    "b=x+0.1\n",
    "c=x-0.1\n",
    "d=y+0.2\n",
    "e=y-0.2\n",
    "\n",
    "fig = figure()\n",
    "\n",
    "fig.quadratic(x0 = x , y0 = y , x1 = a , y1 = y , cx = b , cy = d)\n",
    "\n",
    "show(fig)"
   ]
  },
  {
   "cell_type": "code",
   "execution_count": null,
   "id": "efc6ae81",
   "metadata": {},
   "outputs": [],
   "source": []
  }
 ],
 "metadata": {
  "kernelspec": {
   "display_name": "Python 3 (ipykernel)",
   "language": "python",
   "name": "python3"
  },
  "language_info": {
   "codemirror_mode": {
    "name": "ipython",
    "version": 3
   },
   "file_extension": ".py",
   "mimetype": "text/x-python",
   "name": "python",
   "nbconvert_exporter": "python",
   "pygments_lexer": "ipython3",
   "version": "3.9.7"
  }
 },
 "nbformat": 4,
 "nbformat_minor": 5
}
