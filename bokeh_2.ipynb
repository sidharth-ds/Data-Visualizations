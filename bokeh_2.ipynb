{
 "cells": [
  {
   "cell_type": "markdown",
   "id": "33455a6c",
   "metadata": {},
   "source": [
    "# Bar plot:"
   ]
  },
  {
   "cell_type": "code",
   "execution_count": 1,
   "id": "fc6b63c2",
   "metadata": {},
   "outputs": [],
   "source": [
    "from bokeh.plotting import figure, output_file,show"
   ]
  },
  {
   "cell_type": "code",
   "execution_count": 4,
   "id": "2c2d76b4",
   "metadata": {},
   "outputs": [],
   "source": [
    "x1 = ['c','c+','java','python','PHP']\n",
    "y1 = [23,17,35,29,12]\n",
    "\n",
    "fig = figure(x_range=x1)\n",
    "\n",
    "fig.vbar(x=x1 , top=y1, width=0.5)\n",
    "show(fig)"
   ]
  },
  {
   "cell_type": "markdown",
   "id": "f24b6743",
   "metadata": {},
   "source": [
    "#### using colors:"
   ]
  },
  {
   "cell_type": "code",
   "execution_count": 5,
   "id": "1ccf3946",
   "metadata": {},
   "outputs": [],
   "source": [
    "x1 = ['c','c+','java','python','PHP']\n",
    "y1 = [23,17,35,29,12]\n",
    "\n",
    "fig = figure(x_range=x1)\n",
    "\n",
    "cols = ['red','green','blue','black','yellow']\n",
    "fig.vbar(x=x1 , top=y1, width=0.5,color=cols)\n",
    "show(fig)"
   ]
  },
  {
   "cell_type": "markdown",
   "id": "30653275",
   "metadata": {},
   "source": [
    "# Stacked bar:"
   ]
  },
  {
   "cell_type": "code",
   "execution_count": 10,
   "id": "698b9aff",
   "metadata": {},
   "outputs": [],
   "source": [
    "products = ['computer','mobile','printer']\n",
    "months = ['jan','feb','mar']\n",
    "\n",
    "sales = {'products':products,'jan':[10,40,5],'feb':[8,45,10],'mar':[25,60,22]}\n",
    "\n",
    "fig = figure(x_range=products)\n",
    "\n",
    "cols = ['red','green','blue']\n",
    "fig.vbar_stack( months, x='products' , source=sales, width=0.5,color=cols)\n",
    "\n",
    "show(fig)"
   ]
  },
  {
   "cell_type": "markdown",
   "id": "dcb0af13",
   "metadata": {},
   "source": [
    "#### side by side bar:"
   ]
  },
  {
   "cell_type": "code",
   "execution_count": 16,
   "id": "9e65de8c",
   "metadata": {},
   "outputs": [],
   "source": [
    "from bokeh.transform import dodge"
   ]
  },
  {
   "cell_type": "code",
   "execution_count": 17,
   "id": "20fd0371",
   "metadata": {},
   "outputs": [],
   "source": [
    "products = ['computer','mobile','printer']\n",
    "months = ['jan','feb','mar']\n",
    "\n",
    "sales = {'products':products,'jan':[10,40,5],'feb':[8,45,10],'mar':[25,60,22]}\n",
    "\n",
    "fig = figure(x_range=products)\n",
    "\n",
    "fig.vbar(x=dodge('products',-0.25,range=fig.x_range),top='jan',width=0.2,source=sales,color='red')\n",
    "fig.vbar(x=dodge('products',0.0,range=fig.x_range),top='feb',width=0.2,source=sales,color='green')\n",
    "fig.vbar(x=dodge('products',0.25,range=fig.x_range),top='mar',width=0.2,source=sales,color='blue')\n",
    "\n",
    "show(fig)"
   ]
  },
  {
   "cell_type": "markdown",
   "id": "70587d61",
   "metadata": {},
   "source": [
    "# Twin Axes:\n",
    "\n",
    "relationship between x & y, x & y2 , y & y2:"
   ]
  },
  {
   "cell_type": "code",
   "execution_count": 2,
   "id": "49bd8bea",
   "metadata": {},
   "outputs": [],
   "source": [
    "from numpy import pi,arange,sin,linspace\n",
    "\n",
    "from bokeh.plotting import figure, output_file,show\n",
    "from bokeh.models import LinearAxis, Range1d"
   ]
  },
  {
   "cell_type": "code",
   "execution_count": 11,
   "id": "ca6d67f1",
   "metadata": {},
   "outputs": [],
   "source": [
    "x = arange(-2*pi,2*pi,0.1)\n",
    "y = sin(x)\n",
    "y2 = linspace(0,100,len(y))\n",
    "\n",
    "fig = figure(title='sample11',y_range=(-1.1,1.1))\n",
    "fig.line(x,y,color='red')\n",
    "\n",
    "fig.extra_y_ranges={'y2':Range1d(start=0,end=100)}\n",
    "fig.add_layout(LinearAxis(y_range_name='y2'),'right')\n",
    "fig.line(x,y2,color='blue',y_range_name='y2')\n",
    "\n",
    "show(fig)"
   ]
  },
  {
   "cell_type": "markdown",
   "id": "e1f22c15",
   "metadata": {},
   "source": [
    "# Datetime axis:"
   ]
  },
  {
   "cell_type": "code",
   "execution_count": null,
   "id": "01dfa4c3",
   "metadata": {},
   "outputs": [],
   "source": [
    "myfile = open('.csv')\n",
    "import pandas as pd\n",
    "df = pd.read_csv(myfile)\n",
    "\n",
    "df['Date'] = pd.to_datetime(df['Date'])\n",
    "df.set_index('Date',inplace=True)\n",
    "\n",
    "fig = figure(x_axis_type = 'datetime')\n",
    "fig.line(df.index,df['.....'],alpha=0.5)\n",
    "\n",
    "output_file('datetime.html')\n",
    "show(fig)"
   ]
  },
  {
   "cell_type": "markdown",
   "id": "03f81a6b",
   "metadata": {},
   "source": [
    "# Log axes:"
   ]
  },
  {
   "cell_type": "markdown",
   "id": "0045340d",
   "metadata": {},
   "source": [
    "#### using linear scale:"
   ]
  },
  {
   "cell_type": "code",
   "execution_count": 4,
   "id": "0038dd10",
   "metadata": {},
   "outputs": [],
   "source": [
    "x = [0.1,0.5,1.5,2.0,2.5,3.0]\n",
    "y = [10**i for i in x]\n",
    "\n",
    "fig = figure(title = 'linear scale')\n",
    "fig.line(x,y)\n",
    "show(fig)"
   ]
  },
  {
   "cell_type": "markdown",
   "id": "42932e80",
   "metadata": {},
   "source": [
    "#### using log scale:\n",
    "\n",
    "gives true representation for y-value (ie: for exponentiation)"
   ]
  },
  {
   "cell_type": "code",
   "execution_count": 5,
   "id": "f7727a10",
   "metadata": {},
   "outputs": [],
   "source": [
    "x = [0.1,0.5,1.5,2.0,2.5,3.0]\n",
    "y = [10**i for i in x]\n",
    "\n",
    "fig = figure(title = 'log scale',y_axis_type='log')\n",
    "fig.line(x,y)\n",
    "show(fig)"
   ]
  },
  {
   "cell_type": "markdown",
   "id": "71e5bf6f",
   "metadata": {},
   "source": [
    "# using pandas in bokeh:"
   ]
  },
  {
   "cell_type": "code",
   "execution_count": null,
   "id": "ba3d2f0c",
   "metadata": {},
   "outputs": [],
   "source": [
    "myfile = open('.csv')\n",
    "import pandas as pd\n",
    "df = pd.read_csv(myfile)\n",
    "print(df)\n",
    "\n",
    "\n",
    "from bokeh.plotting import figure,output_file,show\n",
    "\n",
    "p = figure()\n",
    "x = df['..']\n",
    "y = df['...']\n",
    "\n",
    "p.line(x,y)\n",
    "p.circle(x,y,size=20)\n",
    "\n",
    "show(p)"
   ]
  },
  {
   "cell_type": "markdown",
   "id": "cb2351d8",
   "metadata": {},
   "source": [
    "# column layout:"
   ]
  },
  {
   "cell_type": "code",
   "execution_count": 18,
   "id": "c33289da",
   "metadata": {},
   "outputs": [],
   "source": [
    "from bokeh.plotting import figure,output_file,show\n",
    "from bokeh.layouts import column\n",
    "import numpy as np\n",
    "import math\n",
    "\n",
    "x = np.arange(0,math.pi*2,0.05)\n",
    "y1 = np.sin(x) \n",
    "y2 = np.cos(x)\n",
    "\n",
    "fig1 = figure()\n",
    "fig1.line(x,y1)\n",
    "\n",
    "fig2 = figure()\n",
    "fig2.line(x,y2)\n",
    "\n",
    "c = column(children = [fig1,fig2],sizing_mode='stretch_both')\n",
    "\n",
    "show(c)"
   ]
  },
  {
   "cell_type": "markdown",
   "id": "65a10a8b",
   "metadata": {},
   "source": [
    "# row layout:"
   ]
  },
  {
   "cell_type": "code",
   "execution_count": 21,
   "id": "ca45642c",
   "metadata": {},
   "outputs": [],
   "source": [
    "from bokeh.plotting import figure,output_file,show\n",
    "from bokeh.layouts import row\n",
    "import numpy as np\n",
    "import math\n",
    "\n",
    "x = np.arange(0,math.pi*2,0.05)\n",
    "y1 = np.sin(x) \n",
    "y2 = np.cos(x)\n",
    "\n",
    "fig1 = figure()\n",
    "fig1.line(x,y1)\n",
    "\n",
    "fig2 = figure()\n",
    "fig2.line(x,y2)\n",
    "\n",
    "r = row(children = [fig1,fig2],sizing_mode='stretch_both')\n",
    "\n",
    "show(r)"
   ]
  },
  {
   "cell_type": "markdown",
   "id": "8aed666a",
   "metadata": {},
   "source": [
    "# gridplot:"
   ]
  },
  {
   "cell_type": "code",
   "execution_count": 20,
   "id": "61428071",
   "metadata": {},
   "outputs": [],
   "source": [
    "from bokeh.plotting import figure,output_file,show\n",
    "from bokeh.layouts import gridplot\n",
    "import numpy as np\n",
    "import math\n",
    "\n",
    "x = np.arange(0,math.pi*2,0.05)\n",
    "y1 = np.sin(x) \n",
    "y2 = np.cos(x)\n",
    "\n",
    "fig1 = figure()\n",
    "fig1.line(x,y1)\n",
    "\n",
    "fig2 = figure()\n",
    "fig2.line(x,y2)\n",
    "\n",
    "grid = gridplot(children = [[fig1,fig2]],sizing_mode='stretch_both')\n",
    "\n",
    "show(grid)"
   ]
  },
  {
   "cell_type": "code",
   "execution_count": null,
   "id": "23f8e8bd",
   "metadata": {},
   "outputs": [],
   "source": []
  }
 ],
 "metadata": {
  "kernelspec": {
   "display_name": "Python 3 (ipykernel)",
   "language": "python",
   "name": "python3"
  },
  "language_info": {
   "codemirror_mode": {
    "name": "ipython",
    "version": 3
   },
   "file_extension": ".py",
   "mimetype": "text/x-python",
   "name": "python",
   "nbconvert_exporter": "python",
   "pygments_lexer": "ipython3",
   "version": "3.9.7"
  }
 },
 "nbformat": 4,
 "nbformat_minor": 5
}
